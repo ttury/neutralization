{
  "nbformat": 4,
  "nbformat_minor": 0,
  "metadata": {
    "colab": {
      "name": "Chemistry.ipynb",
      "provenance": [],
      "collapsed_sections": [],
      "authorship_tag": "ABX9TyPRZA+rHIiT6BFA/XgPuyzF",
      "include_colab_link": true
    },
    "kernelspec": {
      "name": "python3",
      "display_name": "Python 3"
    },
    "language_info": {
      "name": "python"
    }
  },
  "cells": [
    {
      "cell_type": "markdown",
      "metadata": {
        "id": "view-in-github",
        "colab_type": "text"
      },
      "source": [
        "<a href=\"https://colab.research.google.com/github/ttury/neutralization/blob/main/Chemistry.ipynb\" target=\"_parent\"><img src=\"https://colab.research.google.com/assets/colab-badge.svg\" alt=\"Open In Colab\"/></a>"
      ]
    },
    {
      "cell_type": "code",
      "metadata": {
        "id": "e3VxkhrUM2qP"
      },
      "source": [
        "from matplotlib import pyplot as plt\n",
        "import numpy as np\n",
        "\n",
        "class Substance:\n",
        "  def __init__(self, n, M, V, acidity, mole=None, spectatorion=1):\n",
        "    self.n = n\n",
        "    self.M = M\n",
        "    self.V = V\n",
        "    self.acidity = acidity\n",
        "    self.spectatorion = spectatorion\n",
        "    try:\n",
        "      self.mole = M * V\n",
        "    except:\n",
        "      self.mole = mole\n",
        "  \n",
        "  def info(self):\n",
        "    print('액성: {}'.format(self.acidity))\n",
        "    print('가수: {}'.format(self.n))\n",
        "    print('농도: {}'.format(self.M))\n",
        "    print('부피: {}'.format(self.V))\n",
        "    print('몰수: {}'.format(self.mole))\n",
        "\n",
        "class Experiment:\n",
        "  def __init__(self, acid, base):\n",
        "    self.acid = acid\n",
        "    self.base = base\n",
        "\n",
        "  def info(self):\n",
        "    print('----산 용액 정보----')\n",
        "    self.acid.info()\n",
        "    print('--------------------')\n",
        "    print('---염기 용액 정보---')\n",
        "    self.base.info()\n",
        "    print('--------------------')\n",
        "    print()\n",
        "\n",
        "  def neutralization(self):\n",
        "    self.water_mole = 0\n",
        "    hydrogen_mole = self.acid.n * self.acid.mole\n",
        "    hydroxide_mole = self.base.n * self.base.mole\n",
        "    if hydrogen_mole > hydroxide_mole:\n",
        "      self.water_mole = hydroxide_mole\n",
        "      hydrogen_mole -= self.water_mole\n",
        "      hydroxide_mole = 0\n",
        "    else:\n",
        "      self.water_mole = hydrogen_mole\n",
        "      hydroxide_mole -= self.water_mole\n",
        "      hydrogen_mole = 0\n",
        "    self.result_H_mole = hydrogen_mole\n",
        "    self.result_OH_mole = hydroxide_mole\n",
        "  \n",
        "  def ion_graph(self):\n",
        "    print('염기 용액에 산 용액을 넣을 때의 이온 그래프')\n",
        "    hydrogen_grad = self.acid.n\n",
        "    hydroxide_grad = -(self.acid.n / self.base.n)\n",
        "    acid_spec_grad = self.acid.spectatorion\n",
        "\n",
        "    # 구경꾼 이온\n",
        "    plt.plot([0, self.acid.mole], [0, self.acid.spectatorion * self.acid.mole], label='A-') # 산 구경꾼\n",
        "    plt.plot([0, self.acid.mole], [self.base.spectatorion * self.base.mole, self.base.spectatorion * self.base.mole], label='B+')\n",
        "\n",
        "    if self.result_OH_mole >= 0:\n",
        "      # 수산화 이온\n",
        "      plt.plot([0, self.base.mole], [self.base.n * self.base.mole, self.result_OH_mole], label='OH-')\n",
        "      # 수소 이온\n",
        "      plt.plot([0, self.base.mole], [0, 0], label='H+')\n",
        "    else:\n",
        "      # 수산화 이온\n",
        "      plt.plot([0, self.water_mole, self.acid.mole], [self.base.n * self.base.mole, 0, 0], label='OH-')\n",
        "      # 수소 이온\n",
        "      plt.plot([0, self.water_mole, self.acid.mole], [0, 0, self.result_H_mole], label='H+')\n",
        "    \n",
        "    plt.legend()\n",
        "    plt.show()"
      ],
      "execution_count": 68,
      "outputs": []
    },
    {
      "cell_type": "code",
      "metadata": {
        "colab": {
          "base_uri": "https://localhost:8080/"
        },
        "id": "_J3jIc_dZ3Gj",
        "outputId": "f671a8bc-8a11-4d29-c1d8-b26d7d0b59cb"
      },
      "source": [
        "'''\n",
        "print('산의 가수: ', end=' ')\n",
        "acid_n = int(input())\n",
        "print('산의 농도: ', end=' ')\n",
        "acid_M = float(input())\n",
        "print('산의 부피: ', end=' ')\n",
        "acid_V = float(input())\n",
        "print('염기의 가수: ', end=' ')\n",
        "base_n = int(input())\n",
        "print('염기의 농도: ', end=' ')\n",
        "base_M = float(input())\n",
        "print('염기의 부피: ', end=' ')\n",
        "base_V = float(input())\n",
        "print()\n",
        "'''\n",
        "acid_n = 1\n",
        "acid_M = 0.2\n",
        "acid_V = 0.1\n",
        "base_n = 2\n",
        "base_M = 0.1\n",
        "base_V = 0.1\n",
        "\n",
        "acid = Substance(acid_n, acid_M, acid_V, '산성')\n",
        "base = Substance(base_n, base_M, base_V, '염기성')\n",
        "experiment = Experiment(acid, base)\n",
        "experiment.info()\n",
        "\n",
        "experiment.neutralization()\n",
        "print(experiment.water_mole)"
      ],
      "execution_count": 71,
      "outputs": [
        {
          "output_type": "stream",
          "name": "stdout",
          "text": [
            "----산 용액 정보----\n",
            "액성: 산성\n",
            "가수: 1\n",
            "농도: 0.2\n",
            "부피: 0.1\n",
            "몰수: 0.020000000000000004\n",
            "--------------------\n",
            "---염기 용액 정보---\n",
            "액성: 염기성\n",
            "가수: 2\n",
            "농도: 0.1\n",
            "부피: 0.1\n",
            "몰수: 0.010000000000000002\n",
            "--------------------\n",
            "\n",
            "0.020000000000000004\n"
          ]
        }
      ]
    },
    {
      "cell_type": "code",
      "metadata": {
        "colab": {
          "base_uri": "https://localhost:8080/",
          "height": 300
        },
        "id": "2Ga4-NwOdUKb",
        "outputId": "9c7f6f7d-4fb5-4280-9d79-35f6f475727b"
      },
      "source": [
        "experiment.ion_graph()\n",
        "print(experiment.result_OH_mole)"
      ],
      "execution_count": 72,
      "outputs": [
        {
          "output_type": "stream",
          "name": "stdout",
          "text": [
            "염기 용액에 산 용액을 넣을 때의 이온 그래프\n"
          ]
        },
        {
          "output_type": "display_data",
          "data": {
            "image/png": "[encoded data removed]",
            "text/plain": [
              "<Figure size 432x288 with 1 Axes>"
            ]
          },
          "metadata": {
            "needs_background": "light"
          }
        },
        {
          "output_type": "stream",
          "name": "stdout",
          "text": [
            "0.0\n"
          ]
        }
      ]
    },
    {
      "cell_type": "code",
      "metadata": {
        "id": "Weu7H8Pr7QXD"
      },
      "source": [
        ""
      ],
      "execution_count": null,
      "outputs": []
    }
  ]
}